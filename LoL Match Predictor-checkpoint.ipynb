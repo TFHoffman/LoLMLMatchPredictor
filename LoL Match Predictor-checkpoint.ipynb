{
 "cells": [
  {
   "cell_type": "markdown",
   "metadata": {},
   "source": [
    "## Thomas Hoffman"
   ]
  },
  {
   "cell_type": "markdown",
   "metadata": {},
   "source": [
    "https://na.op.gg/ranking/ladder/summonerName=Henlo%20I%20am%20Goat\n",
    "\n",
    "- Make a text file of 1000-2000 summoners and get all their ranked games in the past 2 weeks to use as training/testing data\n",
    "- Put all that info into a database (hopefully about 5000 matches)\n",
    "- Make a text file of all the links to all the op.gg champion pages to get their winrates\n",
    "    -- Store winrates in dictionary Ex: {Ryze: [42,44,45,49,51]}\n",
    "- Use the champions winrates, along with other match details in order to build a model that will predict the outcome\n",
    "\n",
    "\n",
    "- Make a Match object\n",
    "    --int gameLength\n",
    "    --list team1winrates\n",
    "    --list team2winrates\n",
    "    --int winner (0 = team 1 win | 1 = team 2 win)\n",
    "    \n",
    "    --//list team1MastPoints\n",
    "    --//list team2MastPoints"
   ]
  },
  {
   "cell_type": "code",
   "execution_count": null,
   "metadata": {},
   "outputs": [],
   "source": [
    "import urllib.request\n",
    "from bs4 import BeautifulSoup\n",
    "import requests\n",
    "import sqlite3\n",
    "import json\n",
    "from datetime import datetime\n",
    "import numpy as np\n",
    "import pickle\n",
    "import copy\n",
    "import sklearn.svm as svm\n",
    "\n",
    "from keras.models import Sequential\n",
    "from keras.layers import Dense\n",
    "from keras.layers import Flatten\n",
    "from keras.layers import Dropout\n",
    "from keras.layers import Activation\n",
    "from keras.layers import Conv2D\n",
    "from keras.layers import Conv1D\n",
    "from keras.layers import SpatialDropout2D\n",
    "from keras.layers import MaxPooling2D\n",
    "from keras.layers import MaxPooling1D\n",
    "from keras.utils import np_utils\n",
    "from keras import optimizers\n"
   ]
  },
  {
   "cell_type": "code",
   "execution_count": null,
   "metadata": {},
   "outputs": [],
   "source": [
    "#Object Class \n",
    "class LoL_match:\n",
    "    #Instance variables\n",
    "    game_HTML = None\n",
    "    team1_champs = []\n",
    "    team2_champs = []\n",
    "    match_duration = -1\n",
    "    t1_win = -1\n",
    "    champ_winrates = []\n",
    "    player_champ_points = []\n",
    "    \n",
    "    def printObjectInfo(self):\n",
    "        print(\"Team 1: \", self.team1_champs)\n",
    "        print(\"Team 2: \", self.team2_champs)\n",
    "        print(\"Duration: \", self.match_duration)\n",
    "        print(\"T1 Victory: \", self.t1_win)\n",
    "        print(\"Champion Winrates: \", self.champ_winrates)\n",
    "        print(\"Summoner Champion Points: \", self.player_champ_points)\n",
    "        \n",
    "    #end printObjectInfo()\n",
    "    \n",
    "    def isValid(self, html_page):        \n",
    "        #Getting the gamemode type\n",
    "        individ_game_type = html_page.find(\"div\", {\"class\": \"GameType\"})\n",
    "        if not (self.gamemodeRanked(individ_game_type.getText())):\n",
    "            return False\n",
    "        \n",
    "        #Checking that the game wasnt a remake\n",
    "        if self.gamemodeRemake(individ_game_type.getText()):\n",
    "            return False;\n",
    "        \n",
    "        #Checking that its within the correct time frame (I did 10 days)\n",
    "        individ_game_past = html_page.find(\"div\", {\"class\": \"TimeStamp\"})\n",
    "        text_duration = individ_game_past.getText()\n",
    "    \n",
    "        game_year = int(text_duration[0:4])\n",
    "        game_month = int(text_duration[5:7])\n",
    "        game_date = int(text_duration[8:10])\n",
    "    \n",
    "        full_game_date = datetime(game_year, game_month, game_date)\n",
    "        diff = (datetime.utcnow() - full_game_date).days\n",
    "     \n",
    "        if(diff > 10):\n",
    "            return False\n",
    "        \n",
    "        return True\n",
    "    #end isValid()\n",
    "       \n",
    "    def assignTeams(self, html_page):\n",
    "        t1 = []\n",
    "        t2 = []\n",
    "    \n",
    "        champ_imgs = html_page.findAll(\"div\", {\"class\":\"ChampionImage\"})\n",
    "        \n",
    "        for tag in champ_imgs:\n",
    "            dup_champ_name = tag.get_text()\n",
    "            champ_name = dup_champ_name.split('\\n')[1]\n",
    "            \n",
    "            if not champ_name:\n",
    "                continue\n",
    "            \n",
    "            if(len(t1) < 5):\n",
    "                t1.append(champ_name)\n",
    "            else:\n",
    "                t2.append(champ_name)\n",
    "        \n",
    "        return t1, t2\n",
    "     #end assignTeams()\n",
    "    \n",
    "    def gamemodeRanked(self, single_game):\n",
    "        if 'Ranked Solo' in single_game:\n",
    "            return True\n",
    "        else:\n",
    "            return False\n",
    "    #end gamemodeRanked()\n",
    "    \n",
    "    def gamemodeRemake(self, single_game):\n",
    "        if 'Remake' in single_game:\n",
    "            return True\n",
    "        else:\n",
    "            return False\n",
    "    #end gamemodeRemake()\n",
    "    \n",
    "    def gameResultEncoding(self, html_page, t1, t2):\n",
    "        #Gets the name of the champ and what team he played on\n",
    "        html_champ_name = html_page.find(\"div\", {\"class\": \"ChampionName\"})\n",
    "        summoner_champ = html_champ_name.getText()\n",
    "        \n",
    "        html_game_result = html_page.find(\"div\", {\"class\": \"GameResult\"})\n",
    "        game_result = html_game_result.getText()\n",
    "        \n",
    "        #Case when its a remake\n",
    "        if(\"Remake\" in game_result):\n",
    "            return 2\n",
    "        \n",
    "        #Find out what team the summoners profile is on\n",
    "        profile_team = -1\n",
    "        for i in range(0,5):\n",
    "            if(t1[i] in summoner_champ):\n",
    "                profile_team = 1\n",
    "            elif(t2[i] in summoner_champ):\n",
    "                profile_team = 2\n",
    "        \n",
    "        #Cases when the objects variable t1_win \n",
    "        if((profile_team == 1) and (\"Victory\" in game_result)):\n",
    "            return 1\n",
    "        elif((profile_team == 2) and (\"Defeat\" in game_result)):\n",
    "            return 1\n",
    "        else:\n",
    "            return 0\n",
    "    #end gameResultEncoding()\n",
    "    \n",
    "        \n",
    "    #This method is used to determine which class the length is\n",
    "    # 0-25:0 | 25-30:1 | 30-35:2 | 35-40:3 | 40+:4\n",
    "    def gameDurationClass(self, html_page):\n",
    "        #game_length is a string of the time (ex: 34m 5s)\n",
    "        html_game_length = html_page.find(\"div\", {\"class\": \"GameLength\"})\n",
    "        game_length = html_game_length.getText()\n",
    "        length_arr = game_length.split('m')\n",
    "        game_mins = int(length_arr[0])\n",
    "        \n",
    "        #Assigning the class\n",
    "        if(game_mins < 25):\n",
    "            return 0\n",
    "        elif(game_mins < 30):\n",
    "            return 1\n",
    "        elif(game_mins < 35):\n",
    "            return 2\n",
    "        elif(game_mins < 40):\n",
    "            return 3\n",
    "        else:\n",
    "            return 4\n",
    "    #end getDurationClass()\n",
    "    \n",
    "    #Given the match object and dictionary of winrates will\n",
    "    # return a list of the winrate associated with that game duration\n",
    "    #Called from outside the init method\n",
    "    def matchChampsWinrates(self, champ_winrate_dict):\n",
    "        champion_winrates = []\n",
    "        all_champs = self.team1_champs + self.team2_champs\n",
    "    \n",
    "        for champ in all_champs:\n",
    "            if champ in champ_winrate_dict:\n",
    "                winrate = (champ_winrate_dict[champ])[self.match_duration]\n",
    "                self.champ_winrates.append(champ)\n",
    "                champion_winrates.append(winrate)\n",
    "        \n",
    "        self.champ_winrates = champion_winrates\n",
    "    #end matchChampWinrates\n",
    "    \n",
    "    def matchPlayersChampPoints(self, html_page):\n",
    "        #Will find the amount of points each summoner has with their respected champion\n",
    "        match_players_profile = []\n",
    "        \n",
    "        for inner_link in html_page.find_all('a'):\n",
    "            single_in_link = inner_link.get('href')\n",
    "            if \"//na.op.gg/summoner/userName=\" not in single_in_link:\n",
    "                continue\n",
    "            else:\n",
    "                player_profile = single_in_link.replace('//na.op.gg/summoner/userName=', '')\n",
    "                match_players_profile.append(player_profile)\n",
    "        \n",
    "        #Getting all pages of players    \n",
    "        match_players_points_page = []    \n",
    "        for player in match_players_profile:\n",
    "            match_players_points_page.append(\"https://championmasterylookup.derpthemeus.com/summoner?summoner=\" + player + \"&region=NA\")\n",
    "    \n",
    "        cnt = 0\n",
    "        player_mastery_points = []\n",
    "        #Getting HTML data of page with all players champion points\n",
    "        for link in match_players_points_page:\n",
    "            req = requests.get(url=link)\n",
    "            req_con = req.content\n",
    "            soup = BeautifulSoup(req_con, 'lxml')\n",
    "            if cnt < 5:\n",
    "                champ_played = self.team1_champs[cnt]\n",
    "            else:\n",
    "                champ_played = self.team2_champs[cnt-5]\n",
    "            cnt += 1\n",
    "            champ_points_data_HTML = soup.find(id='tbody')\n",
    "            \n",
    "            #Checking through each individual row if its the champion played\n",
    "            for champ_row in champ_points_data_HTML.children:\n",
    "                champ_name = champ_row.find('a')\n",
    "                found_champ = False\n",
    "                if(champ_name != -1):\n",
    "                    champ_name = champ_name.getText()\n",
    "                    if(champ_name == champ_played):\n",
    "                        found_champ = True    \n",
    "\n",
    "                if(found_champ):\n",
    "                    child_cnt = 0\n",
    "                    for row_child in champ_row:\n",
    "                        if(child_cnt == 4):\n",
    "                            player_mastery_points.append(int(row_child.getText()))\n",
    "                        child_cnt += 1\n",
    "        \n",
    "        return player_mastery_points\n",
    "    #end matchChampsWinrates    \n",
    "    \n",
    "    def __init__(self, game, t1 = None, t2 = None, dur = None, win = None, winrates = None, points = None):\n",
    "        if(t1 != None):\n",
    "            self.team1_champs = t1\n",
    "            self.team2_champs = t2\n",
    "            self.match_duration = dur\n",
    "            self.t1_win = win\n",
    "            self.champ_winrates = winrates\n",
    "            self.player_champ_points = points\n",
    "        else:\n",
    "            self.game_HTML = game\n",
    "            #Check if game is valid\n",
    "            if not (self.isValid(self.game_HTML)):\n",
    "                return None\n",
    "\n",
    "            #Assign team1 and team2 champs\n",
    "            self.team1_champs, self.team2_champs = self.assignTeams(self.game_HTML)\n",
    "\n",
    "            #Determine if team 1 won or lost the match\n",
    "            self.t1_win = self.gameResultEncoding(self.game_HTML, self.team1_champs, self.team2_champs)\n",
    "\n",
    "            #Determine match duration class\n",
    "            self.match_duration = self.gameDurationClass(self.game_HTML)\n",
    "\n",
    "            #Determine the amount of points each player has with their respective champ\n",
    "            self.player_champ_points = self.matchPlayersChampPoints(self.game_HTML)\n",
    "        \n",
    "    #end __init__()\n",
    "    \n",
    "    def getDuration(self):\n",
    "        return self.match_duration\n",
    "    #end getDuration()\n",
    "    \n",
    "    def getTeamChamps(self):\n",
    "        return self.team1_champs, self.team2_champs\n",
    "    #end getTeamChamps()\n",
    "    \n",
    "    def getGameResult(self):\n",
    "        return self.t1_win\n",
    "    \n",
    "    def getChampWinrates(self):\n",
    "        return self.champ_winrates\n",
    "    #end getChampWinrates()\n",
    "    \n",
    "    def getPlayerChampPoints(self):\n",
    "        return self.player_champ_points\n",
    "    #end getPlayerChampPoints()\n",
    "    \n",
    "    def getMatchInfo(self):\n",
    "        return self.game_HTML, self.team1_champs, self.team2_champs, self.match_duration, self.t1_win, self.champ_winrates, self.player_champ_points\n",
    "    #end getMatchVar"
   ]
  },
  {
   "cell_type": "code",
   "execution_count": null,
   "metadata": {},
   "outputs": [],
   "source": [
    "#Used to get the name of the champion and also get the 5 different winrates\n",
    "def getWinrate(string):\n",
    "    split_string = list(string)\n",
    "    size_list = len(split_string)\n",
    "    winrate_arr = []\n",
    "    champ_name = \"\"\n",
    "    \n",
    "    #Putting the winrates into a list\n",
    "    for i in range(0,size_list):\n",
    "        if(len(winrate_arr) < 5):\n",
    "            if(split_string[i] == '\"' and split_string[i+1] == \"y\" and split_string[i+2] == '\"'):\n",
    "                if(split_string[i+6] == ','):\n",
    "                    winrate_val_list = split_string[i+4:i+6]\n",
    "                elif(split_string[i+8] == ','):\n",
    "                    winrate_val_list = split_string[i+4:i+8]\n",
    "                else:\n",
    "                    winrate_val_list = split_string[i+4:i+9]\n",
    "\n",
    "                winR_str = \"\"\n",
    "                for num_item in winrate_val_list:\n",
    "                    winR_str += str(num_item)\n",
    "        \n",
    "                winrate_num = float(winR_str)\n",
    "                winrate_arr.append(winrate_num)\n",
    "        \n",
    "        #Finding the name of the champion\n",
    "        if(split_string[i:i+5] == ['n','a','m','e',':']):\n",
    "            name_ind = i+7\n",
    "            while (split_string[name_ind+1] != ','):\n",
    "                #Means that its a single quote\n",
    "                if(split_string[name_ind] == \"&\"):\n",
    "                    champ_name += \"\\'\"\n",
    "                    name_ind += 6\n",
    "                else:\n",
    "                    champ_name += str(split_string[name_ind])\n",
    "                    name_ind += 1\n",
    "               \n",
    "    #endfor\n",
    "    return winrate_arr, champ_name"
   ]
  },
  {
   "cell_type": "code",
   "execution_count": null,
   "metadata": {},
   "outputs": [],
   "source": [
    "def writeToJSONFile(path, data):\n",
    "    with open(path, 'w') as fp:\n",
    "        json.dump(data,fp)"
   ]
  },
  {
   "cell_type": "code",
   "execution_count": null,
   "metadata": {},
   "outputs": [],
   "source": [
    "def readFromJSONFile(path):\n",
    "    ret_dict = {}\n",
    "    with open(path, 'r') as file:\n",
    "        ret_dict = json.load(file)\n",
    "    return ret_dict"
   ]
  },
  {
   "cell_type": "code",
   "execution_count": null,
   "metadata": {},
   "outputs": [],
   "source": [
    "def writeMatchesToFile(path, l):\n",
    "    with open(path, 'w') as file:\n",
    "        for match in l:\n",
    "            html, t1, t2, dur, t1_win, winrates_ind, points = match.getMatchInfo()\n",
    "            l2 = [str(t1), str(t2), str(dur), str(t1_win), str(winrates_ind), str(points)]\n",
    "            file.writelines(str(l2) + '\\n')"
   ]
  },
  {
   "cell_type": "code",
   "execution_count": null,
   "metadata": {},
   "outputs": [],
   "source": [
    "#Gets all the links to the summoners profile page on the leaderboard page\n",
    "def writeSummonerPages(leaderboard_page_link, write_file):\n",
    "    for link in leaderboard_page_link:\n",
    "        req = requests.get(url=link)\n",
    "        req_con = req.content\n",
    "        soup = BeautifulSoup(req_con, 'lxml')\n",
    "        player_100_nearest = []\n",
    "  \n",
    "        for inner_link in soup.find_all('a'):\n",
    "            single_in_link = inner_link.get('href')\n",
    "            if \"//na.op.gg/summoner/userName=\" not in single_in_link:\n",
    "                continue\n",
    "            player_100_nearest.append(single_in_link)\n",
    "            player_100_nearest.append('\\n')\n",
    "\n",
    "        write_file.writelines(player_100_nearest)\n",
    "    \n",
    "    write_file.close()"
   ]
  },
  {
   "cell_type": "code",
   "execution_count": null,
   "metadata": {},
   "outputs": [],
   "source": [
    "def readSummonerPages(path):\n",
    "    with open(path, 'r') as file:\n",
    "        ret_list = file.readlines()\n",
    "    return ret_list"
   ]
  },
  {
   "cell_type": "code",
   "execution_count": null,
   "metadata": {},
   "outputs": [],
   "source": [
    "def getValidMatches(summoner_list):\n",
    "    match_list = []\n",
    "    for link in summoner_list:\n",
    "        req = requests.get(url=\"http:\" + link)\n",
    "        req_con = req.content\n",
    "        soup = BeautifulSoup(req_con, 'lxml')\n",
    "        game_item_wrap = soup.findAll(\"div\", {\"class\":\"GameItemWrap\"})\n",
    "\n",
    "        #Looks though all matches in individiual profile\n",
    "        for single_game in game_item_wrap:\n",
    "            try:\n",
    "                match = LoL_match(single_game)\n",
    "                 \n",
    "                if match is None or match.getDuration() == -1:\n",
    "                    continue\n",
    "                else:\n",
    "                    match.matchChampsWinrates(champ_dict)\n",
    "                    match_list.append(match)\n",
    "                \n",
    "            except Exception as e: \n",
    "                print(link)\n",
    "                print(e)\n",
    "                continue\n",
    "         \n",
    "    return match_list"
   ]
  },
  {
   "cell_type": "code",
   "execution_count": null,
   "metadata": {},
   "outputs": [],
   "source": [
    "#Used to read and parse the data from the text file I created with the match data\n",
    "def readMatchesFromFile(path):\n",
    "    match_list = []\n",
    "    with open(path, 'r') as file:\n",
    "        for line in file.readlines():\n",
    "            t1 = []\n",
    "            t2 = []\n",
    "            winrates = [] \n",
    "            points = []\n",
    "            dur = win = -1\n",
    "            arr = line.split(',')\n",
    "            for i in range(0,len(arr)):\n",
    "                if(i < 5):\n",
    "                    t1.append(parseDataName(arr[i], champ_dict))\n",
    "                elif(i < 10):\n",
    "                    t2.append(parseDataName(arr[i], champ_dict))\n",
    "                elif(i == 10):\n",
    "                    num = arr[i].replace(\"'\", \"\")\n",
    "                    dur = int(num)\n",
    "                elif(i == 11):\n",
    "                    num = arr[i].replace(\"'\", \"\")\n",
    "                    win = int(num)\n",
    "                elif(i < 22):\n",
    "                    win_num = arr[i].replace(\"[\", \"\")\n",
    "                    win_num = win_num.replace(\"'\", \"\")\n",
    "                    win_num = win_num.replace(\"]\", \"\")\n",
    "                    winrates.append(float(win_num.lstrip()))\n",
    "                elif(i < 32):\n",
    "                    points_num = arr[i].replace(\"[\", \"\")\n",
    "                    points_num = points_num.replace(\"'\", \"\")\n",
    "                    points_num = points_num.replace(\"]\", \"\")\n",
    "                    points.append(int(points_num.lstrip()))\n",
    "                else:\n",
    "                    continue\n",
    "\n",
    "            single_match = LoL_match(None, t1, t2, dur, win, winrates, points)\n",
    "            single_match.printObjectInfo()\n",
    "            match_list.append(single_match)\n",
    "            \n",
    "    return match_list\n"
   ]
  },
  {
   "cell_type": "code",
   "execution_count": null,
   "metadata": {},
   "outputs": [],
   "source": [
    "#Helper method for readMatchesFromFile()\n",
    "def parseDataName(name, champs):\n",
    "    for key in champs:\n",
    "        if key in name:\n",
    "            return key\n",
    "    \n",
    "    #Special champ name exceptions\n",
    "    spec_champs = [\"Cho\", \"Kai\", \"Kog\", \"Kha\", \"Vel\"]\n",
    "    spec_endings = [\"Gath\", \"Sa\", \"Maw\", \"Zix\", \"Koz\"]\n",
    "    for i in range(0,5):\n",
    "        if spec_champs[i] in name:\n",
    "            return spec_champs[i] + \"\\'\" + spec_endings[i]"
   ]
  },
  {
   "cell_type": "code",
   "execution_count": null,
   "metadata": {},
   "outputs": [],
   "source": [
    "def getModelData(match_list):\n",
    "    data_list = []\n",
    "    result_list = []\n",
    "    cnt = 1\n",
    "    ind_cnt = 0\n",
    "    invalid_inds = []\n",
    "    #Organizing data so it goes (champ, points, champ, points...)\n",
    "    for match in match_list:\n",
    "        l1 = match.getChampWinrates()\n",
    "        l2 = match.getPlayerChampPoints()\n",
    "        temp = []\n",
    "       \n",
    "        if(len(l1) == 10 and len(l2) == 10):\n",
    "            for i in range(0,10):\n",
    "                temp.append((l1[i],l2[i]))\n",
    "            data_list.insert(cnt, temp)\n",
    "            cnt += 1\n",
    "            result_list.append(match.getGameResult())\n",
    "        else:\n",
    "            invalid_inds.append(ind_cnt)\n",
    "        ind_cnt += 1\n",
    "    \n",
    "    #Putting data into nparrays\n",
    "    nparr_data = np.array(data_list)\n",
    "    nparr_result = []\n",
    "    for r in result_list:\n",
    "        if(r == 0):\n",
    "            nparr_result.append([1,0])\n",
    "        else:\n",
    "            nparr_result.append([0,1])\n",
    "    OHE_results = np.array(nparr_result)\n",
    "    \n",
    "    #Seperating training and testing data\n",
    "    split = int(nparr_data.shape[0] * 0.8)\n",
    "    train_data = nparr_data[:split]\n",
    "    test_data = nparr_data[split:]\n",
    "    train_results = result_list[:split]\n",
    "    test_results = result_list[split:]\n",
    "    #train_results = OHE_results[:split]\n",
    "    #test_results = OHE_results[split:]\n",
    "\n",
    "    return train_data, train_results, test_data, test_results, invalid_inds"
   ]
  },
  {
   "cell_type": "code",
   "execution_count": null,
   "metadata": {},
   "outputs": [],
   "source": [
    "#Finds the total number of instances a champion appears\n",
    "#Also counts how many times the champion won in the list\n",
    "def totalChampsInList(match_l, champ_dict, result_l = None):\n",
    "    l = champ_dict.keys()\n",
    "    total_dict = dict.fromkeys(l,0)\n",
    "    wins_dict = dict.fromkeys(l,0)\n",
    "    \n",
    "    cnt = 0\n",
    "    for match in match_l:\n",
    "        l1, l2 = match.getTeamChamps()\n",
    "        if result_l is None:\n",
    "            result = match.getGameResult()\n",
    "        else:\n",
    "            result = result_l[cnt]\n",
    "            \n",
    "        cnt += 1 \n",
    "        for champ in l1:\n",
    "            for key in total_dict:\n",
    "                if key in champ:\n",
    "                    if result == 1:\n",
    "                        wins_dict[key] += 1\n",
    "                    total_dict[key] += 1\n",
    "            \n",
    "        for champ in l2:\n",
    "            for key in total_dict:\n",
    "                if key in champ:\n",
    "                    if result == 0:\n",
    "                        wins_dict[key] += 1\n",
    "                    total_dict[key] += 1\n",
    "    return total_dict, wins_dict"
   ]
  },
  {
   "cell_type": "markdown",
   "metadata": {},
   "source": [
    "### Getting champion winrates from online website"
   ]
  },
  {
   "cell_type": "code",
   "execution_count": null,
   "metadata": {
    "scrolled": true
   },
   "outputs": [],
   "source": [
    "file = open(\"champion_page_links.txt\", \"r\")\n",
    "contents = file.readlines()\n",
    "file.close()\n",
    "champ_dict = {}\n",
    "\n",
    "for link in contents:\n",
    "    req = requests.get(url=link)\n",
    "    req_con = req.content\n",
    "    soup = BeautifulSoup(req_con, 'lxml')\n",
    "    winrate_data_HTML = soup.find(id='Trend-GameLengthWinRateGraph').find_next('script')\n",
    "    HTML_str = winrate_data_HTML.getText()\n",
    "    \n",
    "    champ_winR_arr, champion_name = getWinrate(HTML_str)\n",
    "    print(champion_name, champ_winR_arr)\n",
    "    \n",
    "    champ_dict[champion_name] = champ_winR_arr\n",
    "    \n",
    "champ_dict['Trundle'] = [50,50,50,50,50]\n",
    "champ_dict['Mordekaiser'] = [50,50,50,50,50]"
   ]
  },
  {
   "cell_type": "code",
   "execution_count": null,
   "metadata": {},
   "outputs": [],
   "source": [
    "writeToJSONFile('champion_winrates.json', champ_dict)"
   ]
  },
  {
   "cell_type": "code",
   "execution_count": null,
   "metadata": {},
   "outputs": [],
   "source": [
    "#Use this if winrate data already in file\n",
    "champ_dict = readFromJSONFile('champion_winrates.json')"
   ]
  },
  {
   "cell_type": "markdown",
   "metadata": {},
   "source": [
    "### Getting the names of all the players whose match histories I will check for valid match data"
   ]
  },
  {
   "cell_type": "code",
   "execution_count": null,
   "metadata": {},
   "outputs": [],
   "source": [
    "#Making list of all the pages we will get players from\n",
    "# all the desired ranks\n",
    "s_summoner_pages_links = [] #silver\n",
    "p_summoner_pages_links = [] #platnium\n",
    "d_summoner_pages_links = [] #diamond\n",
    "\n",
    "\n",
    "for i in range(0,10): #range(0,99)\n",
    "    if i < 10:\n",
    "        s_link = \"https://na.op.gg/ranking/ladder/page=500\" + str(i)\n",
    "        p_link = \"https://na.op.gg/ranking/ladder/page=90\" + str(i)\n",
    "        d_link = \"https://na.op.gg/ranking/ladder/page=\" + str(i+10)\n",
    "\n",
    "    else:\n",
    "        s_link = \"https://na.op.gg/ranking/ladder/page=50\" + str(i)\n",
    "        p_link = \"https://na.op.gg/ranking/ladder/page=9\" + str(i)\n",
    "        d_link = \"https://na.op.gg/ranking/ladder/page=\" + str(i+10)    \n",
    "                                                                  \n",
    "    s_summoner_pages_links.append(s_link)\n",
    "    p_summoner_pages_links.append(p_link)\n",
    "    d_summoner_pages_links.append(d_link)"
   ]
  },
  {
   "cell_type": "code",
   "execution_count": null,
   "metadata": {},
   "outputs": [],
   "source": [
    "#Writing all the players on that leaderboard page\n",
    "s_file_write = open(\"s_summoner_names.txt\", \"w\")\n",
    "p_file_write = open(\"p_summoner_names.txt\", \"w\")\n",
    "d_file_write = open(\"d_summoner_names.txt\", \"w\")\n",
    "\n",
    "writeSummonerPages(s_summoner_pages_links, s_file_write)\n",
    "writeSummonerPages(p_summoner_pages_links, p_file_write)\n",
    "writeSummonerPages(d_summoner_pages_links, d_file_write)"
   ]
  },
  {
   "cell_type": "code",
   "execution_count": null,
   "metadata": {},
   "outputs": [],
   "source": [
    "#Use this is summoner pages already in txt file\n",
    "s_summoner_pages_links = readSummonerPages(\"s_summoner_names.txt\")\n",
    "p_summoner_pages_links = readSummonerPages(\"p_summoner_names.txt\")\n",
    "d_summoner_pages_links = readSummonerPages(\"d_summoner_names.txt\")"
   ]
  },
  {
   "cell_type": "code",
   "execution_count": null,
   "metadata": {},
   "outputs": [],
   "source": []
  },
  {
   "cell_type": "markdown",
   "metadata": {},
   "source": [
    "### Getting match data from all players in list"
   ]
  },
  {
   "cell_type": "code",
   "execution_count": null,
   "metadata": {
    "scrolled": true
   },
   "outputs": [],
   "source": [
    "file_read = open(\"s_summoner_names.txt\", \"r\")\n",
    "s_summoner_names_list = file_read.readlines()\n",
    "file_read.close()\n",
    "file_read = open(\"p_summoner_names.txt\", \"r\")\n",
    "p_summoner_names_list = file_read.readlines()\n",
    "file_read.close()\n",
    "file_read = open(\"d_summoner_names.txt\", \"r\")\n",
    "d_summoner_names_list = file_read.readlines()\n",
    "file_read.close()\n",
    "\n",
    "#Gets all the valid match data from the profiles\n",
    "#s_match_list = getValidMatches(s_summoner_names_list)\n",
    "p_match_list = getValidMatches(p_summoner_names_list)\n",
    "#d_match_list = getValidMatches(d_summoner_names_list)\n",
    "\n",
    "#print(len(s_match_list))\n",
    "print(len(p_match_list))\n",
    "#print(len(d_match_list))"
   ]
  },
  {
   "cell_type": "code",
   "execution_count": null,
   "metadata": {},
   "outputs": [],
   "source": [
    "#Writing all the data to a file to be saved\n",
    "#writeMatchesToFile('s_matches.txt', s_match_list)\n",
    "writeMatchesToFile('p_matches.txt', p_match_list)\n",
    "#writeMatchesToFile('d_matches.txt', d_match_list)"
   ]
  },
  {
   "cell_type": "code",
   "execution_count": null,
   "metadata": {},
   "outputs": [],
   "source": [
    "#Getting the match data if its already saved to a file\n",
    "s_match_list = readMatchesFromFile('s_matches.txt')\n",
    "p_match_list = readMatchesFromFile('p_matches.txt')\n",
    "#d_match_list = readMatchesFromFile('d_matches.txt')"
   ]
  },
  {
   "cell_type": "markdown",
   "metadata": {},
   "source": [
    "### Organizing data to be put into model"
   ]
  },
  {
   "cell_type": "code",
   "execution_count": null,
   "metadata": {
    "scrolled": true
   },
   "outputs": [],
   "source": [
    "#Do the same thing except all 3 times with the differrent skill ranges s,p,d\n",
    "s_train_data, s_train_results, s_test_data, s_test_results, s_invalid_inds = getModelData(s_match_list)\n",
    "p_train_data, p_train_results, p_test_data, p_test_results, p_invalid_inds = getModelData(p_match_list)\n",
    "#d_train_data, d_train_results, d_test_data, d_test_results, d_invalid_inds = getModelData(d_match_list)"
   ]
  },
  {
   "cell_type": "markdown",
   "metadata": {},
   "source": [
    "### Creating and compiling the model"
   ]
  },
  {
   "cell_type": "code",
   "execution_count": null,
   "metadata": {},
   "outputs": [],
   "source": [
    "## Silver level matches first ##"
   ]
  },
  {
   "cell_type": "code",
   "execution_count": null,
   "metadata": {},
   "outputs": [],
   "source": [
    "s_model = Sequential()\n",
    "s_model.add(Flatten(input_shape=p_train_data.shape[1:]))\n",
    "#model.add(Dense(20, activation='relu'))\n",
    "#model.add(Conv2D(20,(2), padding='same', activation='relu'))\n",
    "#model.add(MaxPooling1D(pool_size=(2)))\n",
    "s_model.add(Dense(20, activation='sigmoid'))\n",
    "#model.add(Dropout(0.5))\n",
    "s_model.add(Dense(40, activation='sigmoid'))\n",
    "\n",
    "s_model.add(Dense(1, activation='sigmoid'))"
   ]
  },
  {
   "cell_type": "code",
   "execution_count": null,
   "metadata": {
    "scrolled": true
   },
   "outputs": [],
   "source": [
    "#Create custom optimizer\n",
    "opt = optimizers.SGD(lr=0.1, decay=0, nesterov=True)\n",
    "\n",
    "#Compile the model\n",
    "s_model.compile(loss='binary_crossentropy', metrics=['accuracy'], optimizer=opt)\n",
    "\n",
    "#Train the model\n",
    "s_model.fit(s_train_data, s_train_results, epochs=100, batch_size=64, verbose=1, validation_data=(s_test_data, s_test_results))"
   ]
  },
  {
   "cell_type": "code",
   "execution_count": null,
   "metadata": {},
   "outputs": [],
   "source": [
    "s_preds = s_model.predict_classes(s_test_data)"
   ]
  },
  {
   "cell_type": "code",
   "execution_count": null,
   "metadata": {},
   "outputs": [],
   "source": [
    "## Platnium level matches ##"
   ]
  },
  {
   "cell_type": "code",
   "execution_count": null,
   "metadata": {},
   "outputs": [],
   "source": [
    "p_model = Sequential()\n",
    "p_model.add(Flatten(input_shape=p_train_data.shape[1:]))\n",
    "#model.add(Dense(20, activation='relu'))\n",
    "#model.add(Conv2D(20,(2), padding='same', activation='relu'))\n",
    "#model.add(MaxPooling1D(pool_size=(2)))\n",
    "p_model.add(Dense(20, activation='sigmoid'))\n",
    "#model.add(Dropout(0.5))\n",
    "p_model.add(Dense(40, activation='sigmoid'))\n",
    "\n",
    "p_model.add(Dense(1, activation='sigmoid'))"
   ]
  },
  {
   "cell_type": "code",
   "execution_count": null,
   "metadata": {},
   "outputs": [],
   "source": [
    "#Create custom optimizer\n",
    "opt = optimizers.SGD(lr=0.1, decay=0, nesterov=True)\n",
    "\n",
    "#Compile the model\n",
    "p_model.compile(loss='binary_crossentropy', metrics=['accuracy'], optimizer=opt)\n",
    "\n",
    "#Train the model\n",
    "p_model.fit(p_train_data, p_train_results, epochs=100, batch_size=64, verbose=1, validation_data=(p_test_data, p_test_results))"
   ]
  },
  {
   "cell_type": "code",
   "execution_count": null,
   "metadata": {},
   "outputs": [],
   "source": [
    "p_preds = p_model.predict_classes(p_test_data)"
   ]
  },
  {
   "cell_type": "markdown",
   "metadata": {},
   "source": [
    "### Model Prediction Analysis"
   ]
  },
  {
   "cell_type": "code",
   "execution_count": null,
   "metadata": {},
   "outputs": [],
   "source": [
    "#List of matches that were used in the model training and testing\n",
    "def getModelMatches(match_l, invalid_inds):\n",
    "    model_match_list = copy.copy(match_l)\n",
    "    cnt = 0\n",
    "    num_removed = 0 \n",
    "    for match in model_match_list:\n",
    "        for num in p_invalid_inds:\n",
    "            if int(num-num_removed) == cnt:\n",
    "                del model_match_list[cnt]\n",
    "                num_removed +=1\n",
    "        cnt += 1\n",
    "\n",
    "    return model_match_list"
   ]
  },
  {
   "cell_type": "code",
   "execution_count": null,
   "metadata": {},
   "outputs": [],
   "source": [
    "#Getting all the matches used in the models\n",
    "s_model_match_list = getModelMatches(s_match_list, s_invalid_inds)\n",
    "p_model_match_list = getModelMatches(p_match_list, p_invalid_inds)\n",
    "#d_model_match_list = getModelMatches(d_match_list, d_invalid_inds)"
   ]
  },
  {
   "cell_type": "code",
   "execution_count": null,
   "metadata": {},
   "outputs": [],
   "source": [
    "def splitTrainTest(match_l):\n",
    "    coef = 0.8\n",
    "    split = int(len(match_l) * coef)\n",
    "    return match_l[:split], match_l[split:]\n"
   ]
  },
  {
   "cell_type": "code",
   "execution_count": null,
   "metadata": {},
   "outputs": [],
   "source": [
    "#Splitting the lists of match objects into their respective training and testing\n",
    "s_train_list, s_test_list = splitTrainTest(s_model_match_list)\n",
    "p_train_list, p_test_list = splitTrainTest(p_model_match_list)\n",
    "#d_train_list, d_test_list = splitTrainTest(d_model_match_list)\n",
    "\n",
    "\n",
    "#Getting the difference of champion presence in training vs testing\n",
    "l1, w1 = totalChampsInList(s_train_list, champ_dict)\n",
    "l2, w2 = totalChampsInList(s_test_list, champ_dict)\n",
    "differnce_presence = {key: l1[key] - l2.get(key) for key in l1.keys()}\n",
    "\n",
    "{k: float(l2[k])/l1[k] for k in l2}\n",
    "print(k)\n",
    "\n",
    "print(\"Champ presence: \", differnce_presence)\n",
    "#print(\"Real Winrates: \", w2)\n",
    "#print(\"Predicted Winrates: \", w3)\n"
   ]
  },
  {
   "cell_type": "markdown",
   "metadata": {},
   "source": [
    "# Practice Area"
   ]
  },
  {
   "cell_type": "code",
   "execution_count": null,
   "metadata": {},
   "outputs": [],
   "source": [
    "d1 = totalChampsInList(p_match_list, champ_dict)\n",
    "d2 = totalChampsInList(p_match_list[:1000], champ_dict)\n",
    "\n",
    "d3 = \n",
    "print(d1)\n",
    "print(d2)\n",
    "print(d3)"
   ]
  },
  {
   "cell_type": "code",
   "execution_count": null,
   "metadata": {},
   "outputs": [],
   "source": [
    "print(champ_dict)"
   ]
  },
  {
   "cell_type": "code",
   "execution_count": null,
   "metadata": {
    "scrolled": true
   },
   "outputs": [],
   "source": [
    "test_req = requests.get(url=contents[0])\n",
    "test_req_con = test_req.content\n",
    "soup = BeautifulSoup(test_req_con, 'lxml')\n",
    "soup.prettify()\n",
    "\n",
    "winrate_data_HTML = soup.find(id='Trend-GameLengthWinRateGraph').find_next('script')"
   ]
  },
  {
   "cell_type": "code",
   "execution_count": null,
   "metadata": {},
   "outputs": [],
   "source": [
    "print(type(winrate_data_HTML))"
   ]
  },
  {
   "cell_type": "code",
   "execution_count": null,
   "metadata": {
    "scrolled": true
   },
   "outputs": [],
   "source": [
    "testing_str = winrate_data_HTML.getText()"
   ]
  },
  {
   "cell_type": "code",
   "execution_count": null,
   "metadata": {
    "scrolled": true
   },
   "outputs": [],
   "source": [
    "test_split = list(testing_str)\n",
    "print(test_split)"
   ]
  },
  {
   "cell_type": "code",
   "execution_count": null,
   "metadata": {},
   "outputs": [],
   "source": []
  },
  {
   "cell_type": "code",
   "execution_count": null,
   "metadata": {},
   "outputs": [],
   "source": [
    "another_test = "
   ]
  },
  {
   "cell_type": "code",
   "execution_count": null,
   "metadata": {},
   "outputs": [],
   "source": [
    "split_string = list(test_split)\n",
    "size_list = len(split_string)\n",
    "winrate_arr = []\n",
    "for i in range(0,size_list):\n",
    "    if(split_string[i] == '\"' and split_string[i+1] == \"y\" and split_string[i+2] == '\"'):\n",
    "        if(split_string[i+10] == ','):\n",
    "            winrate_val_list = split_string[i+4:i+8]\n",
    "            print(\"Has ,\")\n",
    "        else:\n",
    "            winrate_val_list = split_string[i+4:i+9]\n",
    "\n",
    "        winR_str = \"\"\n",
    "        for num_item in winrate_val_list:\n",
    "            print(num_item)\n",
    "            winR_str += str(num_item)\n",
    "        \n",
    "        winrate_num = float(winR_str)\n",
    "        print(winrate_num)\n",
    "        winrate_arr.append(winrate_num)"
   ]
  },
  {
   "cell_type": "markdown",
   "metadata": {},
   "source": [
    "<div id=\"Trend-GameLengthWinRateGraph\" \n",
    "<script>\n",
    "\t$(function(){\n",
    "\t\t$.OP.GG.champion.GenerateGraph('Trend-GameLengthWinRateGraph', 330, 125, [\"0-25\",\"25-30\",\"30-35\",\"35-40\",\"40+\"], [{\"y\":46.79,\"rank\":\"<b>47<\\/b>th\"},{\"y\":47.51,\"rank\":\"<b>46<\\/b>th\"},{\"y\":47.12,\"rank\":\"<b>46<\\/b>th\"},{\"y\":46.73,\"rank\":\"<b>44<\\/b>th\"},{\"y\":42.96,\"rank\":\"<b>48<\\/b>th\"}], [{\"y\":50},{\"y\":50},{\"y\":50},{\"y\":50},{\"y\":50}], [37.96,55,4], {\n",
    "\t\t\tname: 'Aatrox',\n",
    "\t\t\tseriesColor: '#f5a623',\n",
    "\t\t\tposition: 'TOP',\n",
    "\t\t\ttype: 'line',\n",
    "\t\t\tenableLegend: false,\n",
    "\t\t\tzoneDisable: true,\n",
    "\t\t});\n",
    "\t});\n",
    "</script>"
   ]
  },
  {
   "cell_type": "code",
   "execution_count": null,
   "metadata": {},
   "outputs": [],
   "source": [
    "test_akali = requests.get(url=contents[2])\n",
    "test_req_con_ak = test_akali.content\n",
    "soup_ak = BeautifulSoup(test_req_con_ak, 'lxml')\n",
    "soup_ak.prettify()\n",
    "\n",
    "winrate_data_HTML_ak = soup_ak.find(id='Trend-GameLengthWinRateGraph').find_next('script')"
   ]
  },
  {
   "cell_type": "code",
   "execution_count": null,
   "metadata": {},
   "outputs": [],
   "source": [
    "testing_str_ak = winrate_data_HTML_ak.getText()\n",
    "test_str_split_ak = testing_str.split('{\"y\"')\n",
    "\n",
    "test_split_ak = list(testing_str_ak)"
   ]
  },
  {
   "cell_type": "markdown",
   "metadata": {},
   "source": [
    "## Getting all the match data saved - Testing"
   ]
  },
  {
   "cell_type": "code",
   "execution_count": null,
   "metadata": {},
   "outputs": [],
   "source": [
    "file_read = open(\"summoner_names.txt\", \"r\")\n",
    "summoner_names_list = file_read.readlines()\n",
    "file_read.close()"
   ]
  },
  {
   "cell_type": "code",
   "execution_count": null,
   "metadata": {},
   "outputs": [],
   "source": [
    "temp_summoner_names = summoner_names_list[:10]\n",
    "valid_matches = []\n",
    "\n",
    "for link in temp_summoner_names:\n",
    "    req = requests.get(url=\"http:\" + link)\n",
    "    req_con = req.content\n",
    "    soup = BeautifulSoup(req_con, 'lxml')\n",
    "    game_item_wrap = soup.findAll(\"div\", {\"class\":\"GameItemWrap\"})\n",
    "        for tag in game_item_wrap:\n",
    "            match = LoL_match(tag)\n",
    "            if match.isValid():\n",
    "                valid_matches.append(match)\n",
    "            else:\n",
    "                            \n",
    "print(type(game_item_wrap))    "
   ]
  },
  {
   "cell_type": "code",
   "execution_count": null,
   "metadata": {},
   "outputs": [],
   "source": []
  },
  {
   "cell_type": "code",
   "execution_count": null,
   "metadata": {},
   "outputs": [],
   "source": [
    "#summoner_names_list[0] just to summoner_names_list\n",
    "req = requests.get(url=\"http:\" + summoner_names_list[0])\n",
    "req_con = req.content\n",
    "soup = BeautifulSoup(req_con, 'lxml')\n",
    "champ_imgs = soup.findAll(\"div\", {\"class\":\"ChampionImage\"})\n",
    "\n"
   ]
  },
  {
   "cell_type": "code",
   "execution_count": null,
   "metadata": {},
   "outputs": [],
   "source": [
    "champions_inall_matches = []\n",
    "team_comps = []\n",
    "##Gets all the lists of champions for each individual match played\n",
    "for tag in champ_imgs:\n",
    "    if(len(team_comps) >= 10):\n",
    "        champions_inall_matches.append(team_comps)\n",
    "        team_comps = []\n",
    "    \n",
    "    str_no_dup = tag.get_text().split('\\n')\n",
    "    if(str_no_dup[1] != ''):\n",
    "        team_comps.append(str_no_dup[1])\n",
    "    \n",
    "print(champions_inall_matches)"
   ]
  },
  {
   "cell_type": "markdown",
   "metadata": {},
   "source": [
    "### Checking if class is all good to use"
   ]
  },
  {
   "cell_type": "code",
   "execution_count": null,
   "metadata": {
    "scrolled": false
   },
   "outputs": [],
   "source": [
    "#summoner_names_list[0] just to summoner_names_list\n",
    "req_obj_test = requests.get(url=\"https://na.op.gg/summoner/userName=Cheesecrab\")\n",
    "req_con_obj_test = req_obj_test.content\n",
    "soup_obj_test = BeautifulSoup(req_con_obj_test, 'lxml')\n",
    "game_item_wrap = soup_obj_test.findAll(\"div\", {\"class\":\"GameItemWrap\"})\n",
    "\n",
    "match_list = []\n",
    "\n",
    "for single_game in game_item_wrap:\n",
    "    match = LoL_match(single_game)\n",
    "    \n",
    "    if match is None:\n",
    "        continue\n",
    "    else:\n",
    "        match_list.append(match)\n",
    "        match.printObjectInfo()\n",
    "    "
   ]
  },
  {
   "cell_type": "code",
   "execution_count": null,
   "metadata": {
    "scrolled": false
   },
   "outputs": [],
   "source": [
    "    if not (isValid(single_game)):\n",
    "        print(\"Not valid match.\")\n",
    "    else:\n",
    "        t1_champs = []\n",
    "        t2_champs = []\n",
    "        t1_champs, t2_champs = assignTeams(single_game)\n",
    "        print(\"Team 1: \", t1_champs)\n",
    "        print(\"Team 2: \", t2_champs)\n",
    "        \n",
    "        match_duration = gameDurationClass(single_game)\n",
    "        print(\"Duration: \", match_duration)\n",
    "        \n",
    "        t1_win = gameResultEncoding(single_game, t1_champs, t2_champs)\n",
    "        print(\"T1 Victory: \", t1_win)\n",
    "        "
   ]
  },
  {
   "cell_type": "code",
   "execution_count": null,
   "metadata": {},
   "outputs": [],
   "source": [
    "https://na.op.gg/summoner/userName=h2o+flask"
   ]
  },
  {
   "cell_type": "markdown",
   "metadata": {},
   "source": [
    "### Checking if the game is valid to use as training data"
   ]
  },
  {
   "cell_type": "code",
   "execution_count": null,
   "metadata": {},
   "outputs": [],
   "source": [
    "game_item_wrap = soup.findAll(\"div\", {\"class\":\"GameItemWrap\"})"
   ]
  },
  {
   "cell_type": "code",
   "execution_count": null,
   "metadata": {
    "scrolled": true
   },
   "outputs": [],
   "source": [
    "#Getting data for all games to see if it should be used for training/testing data\n",
    "gamemode_type = []\n",
    "game_result = []\n",
    "time_past_played = []\n",
    "\n",
    "for tag in game_item_wrap:\n",
    "    #Getting the gamemode type\n",
    "    individ_game_type = tag.find(\"div\", {\"class\": \"GameType\"})\n",
    "    gamemode_type.append(gamemode_encoding(individ_game_type.getText()))\n",
    "    \n",
    "    #Getting the game winner\n",
    "    individ_game_result = test_game_results = tag.find(\"div\", {\"class\": \"GameResult\"})\n",
    "    game_result.append(game_result_encoding(test_game_results.getText()))\n",
    "    \n",
    "    #Getting the time ago that the match was played\n",
    "    individ_game_past = tag.find(\"div\", {\"class\": \"TimeStamp\"})\n",
    "    time_past_played.append(individ_game_past.getText())\n",
    "\n",
    "print(gamemode_type)\n",
    "print(game_result)\n",
    "print(time_past_played)"
   ]
  },
  {
   "cell_type": "code",
   "execution_count": null,
   "metadata": {},
   "outputs": [],
   "source": []
  },
  {
   "cell_type": "code",
   "execution_count": null,
   "metadata": {},
   "outputs": [],
   "source": [
    "champ_played = 'Nidalee'\n",
    "\n",
    "req_test = requests.get(url='https://championmasterylookup.derpthemeus.com/summoner?summoner=mrtotallytoffy&region=NA')\n",
    "req_con_test = req_test.content\n",
    "soup_test = BeautifulSoup(req_con_test, 'lxml')\n",
    "\n",
    "            \n",
    "champ_points_data_HTML = soup_test.find(id='tbody')\n",
    "\n",
    "champ_points = 0\n",
    "            \n",
    "\n",
    "for champ_row in champ_points_data_HTML.children:\n",
    "    champ_name = champ_row.find('a')\n",
    "    found_champ = False\n",
    "    if(champ_name != -1):\n",
    "        champ_name = champ_name.getText()\n",
    "        if(champ_name == champ_played):\n",
    "            found_champ = True    \n",
    "    \n",
    "    if(found_champ):\n",
    "        child_cnt = 0\n",
    "        print(champ_name)\n",
    "        for row_child in champ_row:\n",
    "            #print(row_child)\n",
    "            if(child_cnt == 4):\n",
    "                champ_points = (int(row_child.getText()))\n",
    "\n",
    "            child_cnt += 1\n",
    "    \n",
    "print(champ_points)\n"
   ]
  },
  {
   "cell_type": "code",
   "execution_count": null,
   "metadata": {
    "scrolled": true
   },
   "outputs": [],
   "source": [
    "summoner = ['https://na.op.gg/summoner/userName=Sorry%20I%20Forget']\n",
    "l = getValidMatchesTemp(summoner)"
   ]
  },
  {
   "cell_type": "code",
   "execution_count": null,
   "metadata": {
    "scrolled": true
   },
   "outputs": [],
   "source": [
    "print(len(l))"
   ]
  },
  {
   "cell_type": "code",
   "execution_count": null,
   "metadata": {
    "scrolled": true
   },
   "outputs": [],
   "source": [
    "html, t1, t2, dur, t1_win, winrates_ind, points = l[2].getMatchInfo()\n",
    "print(winrates_ind)\n",
    "print(len(winrates_ind))\n",
    "print(t1)\n",
    "print(t2)"
   ]
  },
  {
   "cell_type": "code",
   "execution_count": null,
   "metadata": {
    "scrolled": true
   },
   "outputs": [],
   "source": [
    "with open('test_matches.txt', 'w') as file:\n",
    "    for match in l:\n",
    "        html, t1, t2, dur, t1_win, winrates_ind, points = match.getMatchInfo()\n",
    "        l2 = [str(t1), str(t2), str(dur), str(t1_win), str(winrates_ind), str(points)]\n",
    "        file.writelines(str(l2) + '\\n')"
   ]
  },
  {
   "cell_type": "code",
   "execution_count": null,
   "metadata": {},
   "outputs": [],
   "source": [
    "def getValidMatchesTemp(summoner_list):\n",
    "    match_list = []\n",
    "    for link in summoner_list:\n",
    "        req = requests.get(url=link)\n",
    "        req_con = req.content\n",
    "        soup = BeautifulSoup(req_con, 'lxml')\n",
    "        game_item_wrap = soup.findAll(\"div\", {\"class\":\"GameItemWrap\"})\n",
    "\n",
    "        #Looks though all matches in individiual profile\n",
    "        for single_game in game_item_wrap:\n",
    "            try:\n",
    "                match = LoL_match(single_game)\n",
    "                   \n",
    "                if match is None or match.getDuration() == -1:\n",
    "                    continue\n",
    "                else:\n",
    "                    match.matchChampsWinrates(champ_dict)\n",
    "                    match_list.append(match)\n",
    "                \n",
    "            except Exception as e: \n",
    "                print(link)\n",
    "                print(e)\n",
    "                continue\n",
    "         \n",
    "    return match_list"
   ]
  },
  {
   "cell_type": "code",
   "execution_count": null,
   "metadata": {},
   "outputs": [],
   "source": [
    "temp_match_list = readMatchesFromFile('test_file.txt')"
   ]
  },
  {
   "cell_type": "code",
   "execution_count": null,
   "metadata": {},
   "outputs": [],
   "source": []
  }
 ],
 "metadata": {
  "kernelspec": {
   "display_name": "Python 3",
   "language": "python",
   "name": "python3"
  },
  "language_info": {
   "codemirror_mode": {
    "name": "ipython",
    "version": 3
   },
   "file_extension": ".py",
   "mimetype": "text/x-python",
   "name": "python",
   "nbconvert_exporter": "python",
   "pygments_lexer": "ipython3",
   "version": "3.7.1"
  }
 },
 "nbformat": 4,
 "nbformat_minor": 2
}
